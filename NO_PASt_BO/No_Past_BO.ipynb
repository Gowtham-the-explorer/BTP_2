{
  "nbformat": 4,
  "nbformat_minor": 0,
  "metadata": {
    "colab": {
      "provenance": []
    },
    "kernelspec": {
      "name": "python3",
      "display_name": "Python 3"
    },
    "language_info": {
      "name": "python"
    }
  },
  "cells": [
    {
      "cell_type": "markdown",
      "source": [
        "# **1. Import Libraries and Load Data**"
      ],
      "metadata": {
        "id": "vBUbIvF8FOMF"
      }
    },
    {
      "cell_type": "markdown",
      "source": [
        "## 1.1 Install Libraries"
      ],
      "metadata": {
        "id": "HQ-l9UftyMHH"
      }
    },
    {
      "cell_type": "code",
      "source": [
        "!pip install --upgrade numpy scipy GPy GPyOpt"
      ],
      "metadata": {
        "colab": {
          "base_uri": "https://localhost:8080/"
        },
        "id": "o6za5rf5EyyC",
        "outputId": "d0de26b4-6328-4722-d08a-92e4f883089b"
      },
      "execution_count": null,
      "outputs": [
        {
          "output_type": "stream",
          "name": "stdout",
          "text": [
            "Requirement already satisfied: numpy in /usr/local/lib/python3.11/dist-packages (1.26.4)\n",
            "Collecting numpy\n",
            "  Using cached numpy-2.2.4-cp311-cp311-manylinux_2_17_x86_64.manylinux2014_x86_64.whl.metadata (62 kB)\n",
            "Requirement already satisfied: scipy in /usr/local/lib/python3.11/dist-packages (1.12.0)\n",
            "Collecting scipy\n",
            "  Using cached scipy-1.15.2-cp311-cp311-manylinux_2_17_x86_64.manylinux2014_x86_64.whl.metadata (61 kB)\n",
            "Requirement already satisfied: GPy in /usr/local/lib/python3.11/dist-packages (1.13.2)\n",
            "Requirement already satisfied: GPyOpt in /usr/local/lib/python3.11/dist-packages (1.2.6)\n",
            "Requirement already satisfied: six in /usr/local/lib/python3.11/dist-packages (from GPy) (1.17.0)\n",
            "Requirement already satisfied: paramz>=0.9.6 in /usr/local/lib/python3.11/dist-packages (from GPy) (0.9.6)\n",
            "Requirement already satisfied: cython>=0.29 in /usr/local/lib/python3.11/dist-packages (from GPy) (3.0.12)\n",
            "Requirement already satisfied: decorator>=4.0.10 in /usr/local/lib/python3.11/dist-packages (from paramz>=0.9.6->GPy) (4.4.2)\n"
          ]
        }
      ]
    },
    {
      "cell_type": "markdown",
      "source": [
        "## 1.2 Fetch Data"
      ],
      "metadata": {
        "id": "B_k8y7oLyRaS"
      }
    },
    {
      "cell_type": "code",
      "source": [
        "import yfinance as yf\n",
        "import pandas as pd\n",
        "import numpy as np\n",
        "\n",
        "# Fetch S&P 500 ETF (SPY), Gold ETF (GLD)\n",
        "tickers = [\"SPY\", \"QQQ\", \"GLD\"]\n",
        "start_date = \"2013-01-01\"\n",
        "end_date = \"2023-12-31\"\n",
        "\n",
        "data = yf.download(tickers, start=start_date, end=end_date)\n",
        "\n",
        "prices = data[\"Close\"]\n",
        "\n",
        "# print(data.head())\n",
        "print(prices.head())"
      ],
      "metadata": {
        "id": "KfY1HFxedLUm",
        "colab": {
          "base_uri": "https://localhost:8080/"
        },
        "outputId": "92016dd5-943c-4c09-f376-adadf2b147de"
      },
      "execution_count": null,
      "outputs": [
        {
          "output_type": "stream",
          "name": "stdout",
          "text": [
            "YF.download() has changed argument auto_adjust default to True\n"
          ]
        },
        {
          "output_type": "stream",
          "name": "stderr",
          "text": [
            "[*********************100%***********************]  3 of 3 completed\n"
          ]
        },
        {
          "output_type": "stream",
          "name": "stdout",
          "text": [
            "Ticker             GLD        QQQ         SPY\n",
            "Date                                         \n",
            "2013-01-02  163.169998  60.452332  117.624870\n",
            "2013-01-03  161.199997  60.137493  117.359085\n",
            "2013-01-04  160.440002  59.939568  117.874443\n",
            "2013-01-07  159.429993  59.957561  117.552368\n",
            "2013-01-08  160.559998  59.840618  117.214134\n"
          ]
        }
      ]
    },
    {
      "cell_type": "markdown",
      "source": [
        "## 1.3 Data Pre-Processing"
      ],
      "metadata": {
        "id": "P8v57pDOyWLv"
      }
    },
    {
      "cell_type": "code",
      "source": [
        "returns = prices.asfreq('D').interpolate(method='time')"
      ],
      "metadata": {
        "id": "gfhMGitJdOMF"
      },
      "execution_count": null,
      "outputs": []
    },
    {
      "cell_type": "markdown",
      "source": [
        "# **2. Bayesian Optimization with GP-Hedge**"
      ],
      "metadata": {
        "id": "sc_QELX1yy3j"
      }
    },
    {
      "cell_type": "markdown",
      "source": [
        "## 2.1 Import libraries and data processing"
      ],
      "metadata": {
        "id": "bC9z-Sl9zDVX"
      }
    },
    {
      "cell_type": "code",
      "source": [
        "import numpy as np\n",
        "import GPyOpt\n",
        "import GPy\n",
        "import GPyOpt.models\n",
        "import GPyOpt.core\n",
        "from nopast import get_best_evaluation\n",
        "\n",
        "returns = returns[['GLD', 'QQQ', 'SPY']].values"
      ],
      "metadata": {
        "id": "9RQ5XQfmLLhM"
      },
      "execution_count": null,
      "outputs": []
    },
    {
      "cell_type": "markdown",
      "source": [
        "## 2.2 Define Sharpe Ratio"
      ],
      "metadata": {
        "id": "D0A4GW3gynMK"
      }
    },
    {
      "cell_type": "code",
      "source": [
        "def portfolio_sharpe(weights):\n",
        "    if len(weights.shape) == 1:\n",
        "        weights = weights.reshape(1, -1)\n",
        "    sharpe_values = []\n",
        "    for w in weights:\n",
        "        w1, w2 = w[0], w[1]\n",
        "        w3 = 1 - w1 - w2\n",
        "        if w1 < 0 or w2 < 0 or w3 < 0:\n",
        "            sharpe = 0\n",
        "        else:\n",
        "            # Calculate portfolio returns\n",
        "            port_ret = returns[:, 0]*w1 + returns[:, 1]*w2 + returns[:, 2]*w3\n",
        "            mean_ret = port_ret.mean()\n",
        "            std_ret = port_ret.std()\n",
        "            sharpe = (mean_ret / std_ret) if std_ret != 0 else 0\n",
        "            sharpe = -sharpe  # Convert to minimization\n",
        "        sharpe_values.append(sharpe)\n",
        "    return np.array(sharpe_values).reshape(-1, 1)"
      ],
      "metadata": {
        "id": "qeRfmWrCLTtz"
      },
      "execution_count": null,
      "outputs": []
    },
    {
      "cell_type": "markdown",
      "source": [
        "## 2.3 Define Space and Initial Samples"
      ],
      "metadata": {
        "id": "X1CZ0NChFyXa"
      }
    },
    {
      "cell_type": "code",
      "source": [
        "space = GPyOpt.Design_space([\n",
        "    {'name': 'w1', 'type': 'continuous', 'domain': (0, 1)},\n",
        "    {'name': 'w2', 'type': 'continuous', 'domain': (0, 1)},\n",
        "], constraints=[{'name': 'sum_constraint', 'constraint': 'x[:,0] + x[:,1] <= 1.0'}])"
      ],
      "metadata": {
        "id": "loVZzMOULV-3"
      },
      "execution_count": null,
      "outputs": []
    },
    {
      "cell_type": "code",
      "source": [
        "X_init = np.array([\n",
        "    [0.333, 0.333],  # Equal weights\n",
        "    [0.2, 0.4],\n",
        "    [0.3, 0.5],\n",
        "    [0.6, 0.2],\n",
        "])\n",
        "y_init = portfolio_sharpe(X_init)"
      ],
      "metadata": {
        "id": "MXCoaEltB7YN"
      },
      "execution_count": null,
      "outputs": []
    },
    {
      "cell_type": "markdown",
      "source": [
        "## 2.4 Define Acquisition Functions"
      ],
      "metadata": {
        "id": "mLN7FyOMF7wh"
      }
    },
    {
      "cell_type": "code",
      "source": [
        "acquisitions = [\n",
        "    {\n",
        "        'type': 'ei',\n",
        "        'epsilon': 0.1\n",
        "    },\n",
        "    {\n",
        "        'type': 'pi',\n",
        "        'epsilon': 0.1\n",
        "    },\n",
        "    {\n",
        "        'type': 'lcb',\n",
        "        'upsilon': 0.2,\n",
        "        'delta': 0.1\n",
        "    },\n",
        "]"
      ],
      "metadata": {
        "id": "kWlhFtcILhVi"
      },
      "execution_count": null,
      "outputs": []
    },
    {
      "cell_type": "markdown",
      "source": [
        "## 2.5 Call For NO_Past_Bayesian Optimization"
      ],
      "metadata": {
        "id": "xvOlgqVEGGUS"
      }
    },
    {
      "cell_type": "code",
      "source": [
        "evaluations, scores = get_best_evaluation(X_init, y_init, space, acquisitions, portfolio_sharpe, factor=0.7, iterations=100, eta=4)"
      ],
      "metadata": {
        "id": "BfsYhRLWLj90"
      },
      "execution_count": null,
      "outputs": []
    },
    {
      "cell_type": "markdown",
      "source": [
        "# **3. Comparision with GP-Hedge Algorithm**"
      ],
      "metadata": {
        "id": "QW5rOAwzGaSt"
      }
    },
    {
      "cell_type": "markdown",
      "source": [
        "## 3.1 Extract the GP-Hedge Data"
      ],
      "metadata": {
        "id": "M1QWvV-3GTfz"
      }
    },
    {
      "cell_type": "code",
      "source": [
        "from google.colab import drive\n",
        "drive.mount('/content/drive')\n",
        "\n",
        "import pickle\n",
        "\n",
        "load_path = '/content/drive/MyDrive/gp_hedge.pkl'\n",
        "\n",
        "with open(load_path, 'rb') as f:\n",
        "    sharpe_results_gp_hedge = pickle.load(f)\n",
        "\n",
        "load_path = '/content/drive/MyDrive/weights.pkl'\n",
        "\n",
        "with open(load_path, 'rb') as f:\n",
        "    best_weights_gp = pickle.load(f)"
      ],
      "metadata": {
        "colab": {
          "base_uri": "https://localhost:8080/"
        },
        "id": "wV1vQLhVe0Td",
        "outputId": "96ccae03-5b5f-46cc-8981-92e333af7de9"
      },
      "execution_count": null,
      "outputs": [
        {
          "output_type": "stream",
          "name": "stdout",
          "text": [
            "Drive already mounted at /content/drive; to attempt to forcibly remount, call drive.mount(\"/content/drive\", force_remount=True).\n"
          ]
        }
      ]
    },
    {
      "cell_type": "markdown",
      "source": [
        "## 3.2 Convergence Plot"
      ],
      "metadata": {
        "id": "Y0JkUt5sGkH6"
      }
    },
    {
      "cell_type": "code",
      "source": [
        "import matplotlib.pyplot as plt\n",
        "import numpy as np\n",
        "\n",
        "best_scores_per_iteration = np.max(scores, axis=1)\n",
        "# best_cumulative_scores = np.maximum.accumulate(best_scores_per_iterati\n",
        "\n",
        "# For GP-Hedge\n",
        "sharpe_gp_hedge = np.array(sharpe_results_gp_hedge)/12\n",
        "\n",
        "plt.figure(figsize=(10, 6))\n",
        "plt.plot(best_cumulative_scores, label='Custom (Best of EI/PI/LCB)', marker='o')\n",
        "plt.plot(sharpe_gp_hedge, label='GP-Hedge', marker='x', linestyle='--')\n",
        "plt.xlabel('Iterations')\n",
        "plt.ylabel('Best Sharpe Ratio')\n",
        "plt.title('Optimization Progress: Custom vs. GP-Hedge')\n",
        "plt.legend()\n",
        "plt.grid(True)\n",
        "plt.show()"
      ],
      "metadata": {
        "colab": {
          "base_uri": "https://localhost:8080/",
          "height": 564
        },
        "id": "hi77bgKdZLJX",
        "outputId": "13194304-3ade-41e0-8c26-98bd610c8936"
      },
      "execution_count": null,
      "outputs": [
        {
          "output_type": "display_data",
          "data": {
            "text/plain": [
              "<Figure size 1000x600 with 1 Axes>"
            ],
            "image/png": "[encoded data removed]"
          },
          "metadata": {}
        }
      ]
    },
    {
      "cell_type": "markdown",
      "source": [
        "## 3.3 Optimal Weights for both the methods"
      ],
      "metadata": {
        "id": "SxptLfDlGrSz"
      }
    },
    {
      "cell_type": "code",
      "source": [
        "# For NO_past_BO\n",
        "best_idx_custom = np.argmax(best_scores_per_iteration)\n",
        "best_weights_custom = evaluations[best_idx_custom, :2]\n",
        "w3_custom = max(0, 1 - best_weights_custom[0] - best_weights_custom[1])\n",
        "\n",
        "\n",
        "print(\"Custom Method Optimal Weights:\")\n",
        "print(f\"GLD: {best_weights_custom[0]:.4f}, QQQ: {best_weights_custom[1]:.4f}, SPY: {w3_custom:.4f}\")\n",
        "\n",
        "print(\"\\nGP-Hedge Optimal Weights:\")\n",
        "print(f\"GLD: {best_weights_gp[0]:.4f}, QQQ: {best_weights_gp[1]:.4f}, SPY: {best_weights_gp[2]:.4f}\")"
      ],
      "metadata": {
        "colab": {
          "base_uri": "https://localhost:8080/"
        },
        "id": "v_oLEmE-_iED",
        "outputId": "5408cd46-abe2-4198-b09e-f3defcdfdc0a"
      },
      "execution_count": null,
      "outputs": [
        {
          "output_type": "stream",
          "name": "stdout",
          "text": [
            "Custom Method Optimal Weights:\n",
            "GLD: 0.7790, QQQ: 0.2219, SPY: 0.0000\n",
            "\n",
            "GP-Hedge Optimal Weights:\n",
            "GLD: 1.0000, QQQ: 0.0000, SPY: 0.0000\n"
          ]
        }
      ]
    }
  ]
}