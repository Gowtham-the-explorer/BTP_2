{
  "nbformat": 4,
  "nbformat_minor": 0,
  "metadata": {
    "colab": {
      "provenance": []
    },
    "kernelspec": {
      "name": "python3",
      "display_name": "Python 3"
    },
    "language_info": {
      "name": "python"
    }
  },
  "cells": [
    {
      "cell_type": "markdown",
      "source": [
        "# **1. Import Libraries and Load Data**\n",
        "\n",
        "\n",
        "\n"
      ],
      "metadata": {
        "id": "Yt7Q728ux_7p"
      }
    },
    {
      "cell_type": "markdown",
      "source": [
        "## 1.1 Install Libraries"
      ],
      "metadata": {
        "id": "HQ-l9UftyMHH"
      }
    },
    {
      "cell_type": "code",
      "source": [
        "!pip install yfinance pandas_datareader pandas numpy PyPortfolioOpt"
      ],
      "metadata": {
        "colab": {
          "base_uri": "https://localhost:8080/"
        },
        "id": "rJXL1RKcp_mU",
        "outputId": "f06e87bf-312a-4d6b-e98e-ccbca146b97c"
      },
      "execution_count": null,
      "outputs": [
        {
          "output_type": "stream",
          "name": "stdout",
          "text": [
            "Requirement already satisfied: yfinance in /usr/local/lib/python3.11/dist-packages (0.2.55)\n",
            "Requirement already satisfied: pandas_datareader in /usr/local/lib/python3.11/dist-packages (0.10.0)\n",
            "Requirement already satisfied: pandas in /usr/local/lib/python3.11/dist-packages (2.2.2)\n",
            "Requirement already satisfied: numpy in /usr/local/lib/python3.11/dist-packages (2.0.2)\n",
            "Requirement already satisfied: PyPortfolioOpt in /usr/local/lib/python3.11/dist-packages (1.5.6)\n",
            "Requirement already satisfied: requests>=2.31 in /usr/local/lib/python3.11/dist-packages (from yfinance) (2.32.3)\n",
            "Requirement already satisfied: multitasking>=0.0.7 in /usr/local/lib/python3.11/dist-packages (from yfinance) (0.0.11)\n",
            "Requirement already satisfied: platformdirs>=2.0.0 in /usr/local/lib/python3.11/dist-packages (from yfinance) (4.3.7)\n",
            "Requirement already satisfied: pytz>=2022.5 in /usr/local/lib/python3.11/dist-packages (from yfinance) (2025.2)\n",
            "Requirement already satisfied: frozendict>=2.3.4 in /usr/local/lib/python3.11/dist-packages (from yfinance) (2.4.6)\n",
            "Requirement already satisfied: peewee>=3.16.2 in /usr/local/lib/python3.11/dist-packages (from yfinance) (3.17.9)\n",
            "Requirement already satisfied: beautifulsoup4>=4.11.1 in /usr/local/lib/python3.11/dist-packages (from yfinance) (4.13.4)\n",
            "Requirement already satisfied: lxml in /usr/local/lib/python3.11/dist-packages (from pandas_datareader) (5.3.2)\n",
            "Requirement already satisfied: python-dateutil>=2.8.2 in /usr/local/lib/python3.11/dist-packages (from pandas) (2.8.2)\n",
            "Requirement already satisfied: tzdata>=2022.7 in /usr/local/lib/python3.11/dist-packages (from pandas) (2025.2)\n",
            "Requirement already satisfied: cvxpy>=1.1.19 in /usr/local/lib/python3.11/dist-packages (from PyPortfolioOpt) (1.6.5)\n",
            "Requirement already satisfied: ecos<3.0.0,>=2.0.14 in /usr/local/lib/python3.11/dist-packages (from PyPortfolioOpt) (2.0.14)\n",
            "Requirement already satisfied: plotly<6.0.0,>=5.0.0 in /usr/local/lib/python3.11/dist-packages (from PyPortfolioOpt) (5.24.1)\n",
            "Requirement already satisfied: scipy>=1.3 in /usr/local/lib/python3.11/dist-packages (from PyPortfolioOpt) (1.14.1)\n",
            "Requirement already satisfied: soupsieve>1.2 in /usr/local/lib/python3.11/dist-packages (from beautifulsoup4>=4.11.1->yfinance) (2.6)\n",
            "Requirement already satisfied: typing-extensions>=4.0.0 in /usr/local/lib/python3.11/dist-packages (from beautifulsoup4>=4.11.1->yfinance) (4.13.2)\n",
            "Requirement already satisfied: osqp>=0.6.2 in /usr/local/lib/python3.11/dist-packages (from cvxpy>=1.1.19->PyPortfolioOpt) (1.0.3)\n",
            "Requirement already satisfied: clarabel>=0.5.0 in /usr/local/lib/python3.11/dist-packages (from cvxpy>=1.1.19->PyPortfolioOpt) (0.10.0)\n",
            "Requirement already satisfied: scs>=3.2.4.post1 in /usr/local/lib/python3.11/dist-packages (from cvxpy>=1.1.19->PyPortfolioOpt) (3.2.7.post2)\n",
            "Requirement already satisfied: tenacity>=6.2.0 in /usr/local/lib/python3.11/dist-packages (from plotly<6.0.0,>=5.0.0->PyPortfolioOpt) (9.1.2)\n",
            "Requirement already satisfied: packaging in /usr/local/lib/python3.11/dist-packages (from plotly<6.0.0,>=5.0.0->PyPortfolioOpt) (24.2)\n",
            "Requirement already satisfied: six>=1.5 in /usr/local/lib/python3.11/dist-packages (from python-dateutil>=2.8.2->pandas) (1.17.0)\n",
            "Requirement already satisfied: charset-normalizer<4,>=2 in /usr/local/lib/python3.11/dist-packages (from requests>=2.31->yfinance) (3.4.1)\n",
            "Requirement already satisfied: idna<4,>=2.5 in /usr/local/lib/python3.11/dist-packages (from requests>=2.31->yfinance) (3.10)\n",
            "Requirement already satisfied: urllib3<3,>=1.21.1 in /usr/local/lib/python3.11/dist-packages (from requests>=2.31->yfinance) (2.3.0)\n",
            "Requirement already satisfied: certifi>=2017.4.17 in /usr/local/lib/python3.11/dist-packages (from requests>=2.31->yfinance) (2025.1.31)\n",
            "Requirement already satisfied: jinja2 in /usr/local/lib/python3.11/dist-packages (from osqp>=0.6.2->cvxpy>=1.1.19->PyPortfolioOpt) (3.1.6)\n",
            "Requirement already satisfied: setuptools in /usr/local/lib/python3.11/dist-packages (from osqp>=0.6.2->cvxpy>=1.1.19->PyPortfolioOpt) (75.2.0)\n",
            "Requirement already satisfied: joblib in /usr/local/lib/python3.11/dist-packages (from osqp>=0.6.2->cvxpy>=1.1.19->PyPortfolioOpt) (1.4.2)\n",
            "Requirement already satisfied: MarkupSafe>=2.0 in /usr/local/lib/python3.11/dist-packages (from jinja2->osqp>=0.6.2->cvxpy>=1.1.19->PyPortfolioOpt) (3.0.2)\n"
          ]
        }
      ]
    },
    {
      "cell_type": "markdown",
      "source": [
        "## 1.2 Fetch Data"
      ],
      "metadata": {
        "id": "B_k8y7oLyRaS"
      }
    },
    {
      "cell_type": "code",
      "source": [
        "import yfinance as yf\n",
        "import pandas as pd\n",
        "import numpy as np\n",
        "\n",
        "# Fetch S&P 500 ETF (SPY), Gold ETF (GLD)\n",
        "tickers = [\"SPY\", \"QQQ\", \"GLD\"]\n",
        "start_date = \"2013-01-01\"\n",
        "end_date = \"2023-12-31\"\n",
        "\n",
        "data = yf.download(tickers, start=start_date, end=end_date)\n",
        "\n",
        "prices = data[\"Close\"]\n",
        "\n",
        "# print(data.head())\n",
        "print(prices.head())"
      ],
      "metadata": {
        "colab": {
          "base_uri": "https://localhost:8080/"
        },
        "id": "5XDJQXvqp8Vt",
        "outputId": "ad15235b-23f9-41e1-d6ed-adffeb743d2a"
      },
      "execution_count": null,
      "outputs": [
        {
          "output_type": "stream",
          "name": "stderr",
          "text": [
            "[*********************100%***********************]  3 of 3 completed"
          ]
        },
        {
          "output_type": "stream",
          "name": "stdout",
          "text": [
            "Ticker             GLD        QQQ         SPY\n",
            "Date                                         \n",
            "2013-01-02  163.169998  60.452339  117.624855\n",
            "2013-01-03  161.199997  60.137470  117.359070\n",
            "2013-01-04  160.440002  59.939568  117.874466\n",
            "2013-01-07  159.429993  59.957558  117.552345\n",
            "2013-01-08  160.559998  59.840622  117.214157\n"
          ]
        },
        {
          "output_type": "stream",
          "name": "stderr",
          "text": [
            "\n"
          ]
        }
      ]
    },
    {
      "cell_type": "markdown",
      "source": [
        "## 1.3 Data Pre-Processing"
      ],
      "metadata": {
        "id": "P8v57pDOyWLv"
      }
    },
    {
      "cell_type": "code",
      "source": [
        "returns = prices.asfreq('D').interpolate(method='time')"
      ],
      "metadata": {
        "id": "SgCKzEn2qYPv"
      },
      "execution_count": null,
      "outputs": []
    },
    {
      "cell_type": "markdown",
      "source": [
        "# **2. Bayesian Optimization with GP-Hedge**"
      ],
      "metadata": {
        "id": "sc_QELX1yy3j"
      }
    },
    {
      "cell_type": "markdown",
      "source": [
        "## 2.1 Import libraries and data processing"
      ],
      "metadata": {
        "id": "bC9z-Sl9zDVX"
      }
    },
    {
      "cell_type": "code",
      "execution_count": null,
      "metadata": {
        "id": "GRqP5RHtppow"
      },
      "outputs": [],
      "source": [
        "import numpy as np\n",
        "import pandas as pd\n",
        "from scipy.stats import norm\n",
        "from sklearn.gaussian_process import GaussianProcessRegressor\n",
        "from sklearn.gaussian_process.kernels import Matern\n",
        "\n",
        "returns = returns[['GLD', 'QQQ', 'SPY']].values"
      ]
    },
    {
      "cell_type": "markdown",
      "source": [
        "## 2.2 Define Sharpe Ratio"
      ],
      "metadata": {
        "id": "D0A4GW3gynMK"
      }
    },
    {
      "cell_type": "code",
      "source": [
        "def calculate_sharpe_ratio(portfolio_returns, risk_free_rate=0.0, annualized=True):\n",
        "    mean = np.mean(portfolio_returns)\n",
        "    std = np.std(portfolio_returns)\n",
        "    if std == 0:\n",
        "        return 0.0\n",
        "    if annualized:\n",
        "        mean *= 252\n",
        "        std *= np.sqrt(252)\n",
        "    return (mean - risk_free_rate) / std"
      ],
      "metadata": {
        "id": "BeeQx8ZEptUM"
      },
      "execution_count": null,
      "outputs": []
    },
    {
      "cell_type": "markdown",
      "source": [
        "## 2.3 Initialize Gaussian Process and Acquisition Functions"
      ],
      "metadata": {
        "id": "HJqIeWJxzQ8w"
      }
    },
    {
      "cell_type": "code",
      "source": [
        "# Gaussian Process with Matern kernel\n",
        "kernel = Matern(length_scale=[1.0, 1.0], nu=2.5)\n",
        "gp = GaussianProcessRegressor(kernel=kernel, alpha=1e-6)\n",
        "\n",
        "# Acquisition Functions\n",
        "def expected_improvement(X, gp, current_max, xi=0.01):\n",
        "    mu, sigma = gp.predict(X.reshape(-1, 2), return_std=True)\n",
        "    imp = mu - current_max - xi\n",
        "    Z = imp / (sigma + 1e-9)\n",
        "    return imp * norm.cdf(Z) + sigma * norm.pdf(Z)\n",
        "\n",
        "def probability_improvement(X, gp, current_max, xi=0.01):\n",
        "    mu, sigma = gp.predict(X.reshape(-1, 2), return_std=True)\n",
        "    Z = (mu - current_max - xi) / (sigma + 1e-9)\n",
        "    return norm.cdf(Z)\n",
        "\n",
        "def upper_confidence_bound(X, gp, beta=2.0):\n",
        "    mu, sigma = gp.predict(X.reshape(-1, 2), return_std=True)\n",
        "    return mu + beta * sigma"
      ],
      "metadata": {
        "id": "XHFWlaH4pwWw"
      },
      "execution_count": null,
      "outputs": []
    },
    {
      "cell_type": "markdown",
      "source": [
        "## 2.4 GP-Hedge Algorithm"
      ],
      "metadata": {
        "id": "WYSU61BNzsK4"
      }
    },
    {
      "cell_type": "code",
      "source": [
        "# Initialize parameters\n",
        "acquisition_funcs = [expected_improvement, probability_improvement, upper_confidence_bound]\n",
        "num_acq = len(acquisition_funcs)\n",
        "eta = 0.2  # Hedge learning rate\n",
        "gains = np.zeros(num_acq)  # Cumulative rewards\n",
        "X_samples, y_samples = [], []  # Observed data\n",
        "\n",
        "random_seed = 3\n",
        "np.random.seed(random_seed)\n",
        "\n",
        "# Initial random samples\n",
        "for _ in range(10):\n",
        "    w1 = np.random.uniform(0, 1)\n",
        "    w2 = np.random.uniform(0, 1 - w1)\n",
        "    portfolio_returns = returns[:, 0] * w1 + returns[:, 1] * w2 + returns[:, 2] * (1 - w1 - w2)\n",
        "    sharpe = calculate_sharpe_ratio(portfolio_returns)\n",
        "    X_samples.append([w1, w2])\n",
        "    y_samples.append(sharpe)\n",
        "\n",
        "# Train GP on initial data\n",
        "X_train = np.array(X_samples)\n",
        "y_train = np.array(y_samples)\n",
        "gp.fit(X_train, y_train)\n",
        "\n",
        "\n",
        "sharpe_history = [np.max(y_train)]\n",
        "\n",
        "# Optimization loop\n",
        "n_iterations = 50\n",
        "for _ in range(n_iterations - 10):\n",
        "    current_max = np.max(y_train)\n",
        "    nominees, rewards = [], []\n",
        "\n",
        "    # Nominate points for each acquisition function\n",
        "    for acq_func in acquisition_funcs:\n",
        "        best_sharpe = -np.inf\n",
        "        best_weights = None\n",
        "        # Random search for simplicity (replace with L-BFGS for better performance)\n",
        "        for _ in range(1000):\n",
        "            w1 = np.random.uniform(0, 1)\n",
        "            w2 = np.random.uniform(0, 1 - w1)\n",
        "            x = np.array([w1, w2])\n",
        "            if acq_func == expected_improvement:\n",
        "                acq_value = expected_improvement(x, gp, current_max)\n",
        "            elif acq_func == probability_improvement:\n",
        "                acq_value = probability_improvement(x, gp, current_max)\n",
        "            else:\n",
        "                acq_value = upper_confidence_bound(x, gp)\n",
        "            if acq_value > best_sharpe:\n",
        "                best_sharpe = acq_value\n",
        "                best_weights = x\n",
        "        nominees.append(best_weights)\n",
        "        rewards.append(gp.predict([best_weights])[0])  # Reward = GP mean\n",
        "\n",
        "    # Hedge selection\n",
        "    probabilities = np.exp(eta * gains) / np.sum(np.exp(eta * gains))\n",
        "    selected = np.random.choice(num_acq, p=probabilities)\n",
        "    w1, w2 = nominees[selected]\n",
        "    w3 = 1 - w1 - w2\n",
        "\n",
        "    # Evaluate and update\n",
        "    portfolio_returns = returns[:, 0] * w1 + returns[:, 1] * w2 + returns[:, 2] * w3\n",
        "    sharpe = calculate_sharpe_ratio(portfolio_returns)\n",
        "    sharpe_history.append(sharpe)\n",
        "    X_train = np.vstack((X_train, [w1, w2]))\n",
        "    y_train = np.append(y_train, sharpe)\n",
        "    gains += rewards  # Update cumulative gains\n",
        "\n",
        "    # Retrain GP\n",
        "    gp.fit(X_train, y_train)\n",
        "\n",
        "# Extract optimal weights\n",
        "best_idx = np.argmax(y_train)\n",
        "best_w1, best_w2 = X_train[best_idx]\n",
        "best_w3 = 1 - best_w1 - best_w2\n",
        "\n",
        "print(f\"Optimal Weights:\")\n",
        "print(f\"GLD: {best_w1:.4f}, QQQ: {best_w2:.4f}, SPY: {best_w3:.4f}\")\n",
        "print(f\"Max Sharpe Ratio: {y_train[best_idx]:.4f}\")"
      ],
      "metadata": {
        "colab": {
          "base_uri": "https://localhost:8080/"
        },
        "id": "-eZBd7RbpzLn",
        "outputId": "30e3f437-293e-4169-9d86-d810b0ea4df3"
      },
      "execution_count": null,
      "outputs": [
        {
          "output_type": "stream",
          "name": "stdout",
          "text": [
            "Optimal Weights:\n",
            "GLD: 0.9999, QQQ: 0.0000, SPY: 0.0000\n",
            "Max Sharpe Ratio: 87.5158\n"
          ]
        }
      ]
    },
    {
      "cell_type": "markdown",
      "source": [
        "# **3. Backtesting with Baseline Models**"
      ],
      "metadata": {
        "id": "dFQ59JL-z0HK"
      }
    },
    {
      "cell_type": "markdown",
      "source": [
        "## 3.1 Implement Baseline Models\n"
      ],
      "metadata": {
        "id": "Pr2l_tHr0Ff-"
      }
    },
    {
      "cell_type": "code",
      "source": [
        "import matplotlib.pyplot as plt\n",
        "\n",
        "# Define common parameters\n",
        "n_iterations = 50\n",
        "risk_free_rate = 0.0\n",
        "\n",
        "# Initialize results storage\n",
        "results = {\n",
        "    \"GP-Hedge\": [],\n",
        "    \"Random Search\": [],\n",
        "    \"BO-EI\": [],\n",
        "    \"BO-UCB\": [],\n",
        "    \"BO-PI\": []\n",
        "}\n",
        "\n",
        "# Common data for all models\n",
        "def evaluate_weights(w1, w2):\n",
        "    w3 = 1 - w1 - w2\n",
        "    portfolio_returns = returns[:, 0] * w1 + returns[:, 1] * w2 + returns[:, 2] * w3\n",
        "    return calculate_sharpe_ratio(portfolio_returns, risk_free_rate)"
      ],
      "metadata": {
        "id": "ZUyIphT3sL5H"
      },
      "execution_count": null,
      "outputs": []
    },
    {
      "cell_type": "markdown",
      "source": [
        "## 3.2 Random Search Baseline"
      ],
      "metadata": {
        "id": "iFkg9dVY0KTq"
      }
    },
    {
      "cell_type": "code",
      "source": [
        "# Random Search\n",
        "best_sharpe_rs = -np.inf\n",
        "sharpe_history_rs = []\n",
        "for _ in range(n_iterations):\n",
        "    w1 = np.random.uniform(0, 1)\n",
        "    w2 = np.random.uniform(0, 1 - w1)\n",
        "    sharpe = evaluate_weights(w1, w2)\n",
        "    if sharpe > best_sharpe_rs:\n",
        "        best_sharpe_rs = sharpe\n",
        "    sharpe_history_rs.append(best_sharpe_rs)\n",
        "results[\"Random Search\"] = sharpe_history_rs"
      ],
      "metadata": {
        "id": "DHskcI2MsPnq"
      },
      "execution_count": null,
      "outputs": []
    },
    {
      "cell_type": "markdown",
      "source": [
        "## 3.3 Standard BO with EI/UCB/PI"
      ],
      "metadata": {
        "id": "2_ZaTeN00ScT"
      }
    },
    {
      "cell_type": "code",
      "source": [
        "def run_bo(acquisition_func, n_init=10):\n",
        "    X_train, y_train = [], []\n",
        "    # Initial random samples\n",
        "    for _ in range(n_init):\n",
        "        w1 = np.random.uniform(0, 1)\n",
        "        w2 = np.random.uniform(0, 1 - w1)\n",
        "        X_train.append([w1, w2])\n",
        "        y_train.append(evaluate_weights(w1, w2))\n",
        "    X_train = np.array(X_train)\n",
        "    y_train = np.array(y_train)\n",
        "\n",
        "    gp = GaussianProcessRegressor(kernel=Matern(nu=2.5), alpha=1e-6)\n",
        "    gp.fit(X_train, y_train)\n",
        "\n",
        "    sharpe_history = [np.max(y_train)]\n",
        "    for _ in range(n_iterations - n_init):\n",
        "        current_max = np.max(y_train)\n",
        "        best_sharpe = -np.inf\n",
        "        best_weights = None\n",
        "        # Random search for next point\n",
        "        for _ in range(1000):\n",
        "            w1 = np.random.uniform(0, 1)\n",
        "            w2 = np.random.uniform(0, 1 - w1)\n",
        "            x = np.array([w1, w2])\n",
        "            if acquisition_func == \"EI\":\n",
        "                acq_value = expected_improvement(x, gp, current_max)\n",
        "            elif acquisition_func == \"UCB\":\n",
        "                acq_value = upper_confidence_bound(x, gp, beta=2.0)\n",
        "            elif acquisition_func == \"PI\":\n",
        "                acq_value = probability_improvement(x, gp, current_max)\n",
        "            if acq_value > best_sharpe:\n",
        "                best_sharpe = acq_value\n",
        "                best_weights = x\n",
        "        # Update\n",
        "        w1, w2 = best_weights\n",
        "        sharpe = evaluate_weights(w1, w2)\n",
        "        X_train = np.vstack((X_train, best_weights))\n",
        "        y_train = np.append(y_train, sharpe)\n",
        "        sharpe_history.append(np.max(y_train))\n",
        "        gp.fit(X_train, y_train)\n",
        "    return sharpe_history\n",
        "\n",
        "# Run BO variants\n",
        "results[\"BO-EI\"] = run_bo(\"EI\")\n",
        "results[\"BO-UCB\"] = run_bo(\"UCB\")\n",
        "results[\"BO-PI\"] = run_bo(\"PI\")"
      ],
      "metadata": {
        "colab": {
          "base_uri": "https://localhost:8080/"
        },
        "id": "DaXerq6ssaWY",
        "outputId": "703a7282-5ab6-4c37-f1b0-7effe064b14c"
      },
      "execution_count": null,
      "outputs": [
        {
          "output_type": "stream",
          "name": "stderr",
          "text": [
            "/usr/local/lib/python3.11/dist-packages/sklearn/gaussian_process/_gpr.py:660: ConvergenceWarning: lbfgs failed to converge (status=2):\n",
            "ABNORMAL_TERMINATION_IN_LNSRCH.\n",
            "\n",
            "Increase the number of iterations (max_iter) or scale the data as shown in:\n",
            "    https://scikit-learn.org/stable/modules/preprocessing.html\n",
            "  _check_optimize_result(\"lbfgs\", opt_res)\n",
            "/usr/local/lib/python3.11/dist-packages/sklearn/gaussian_process/_gpr.py:660: ConvergenceWarning: lbfgs failed to converge (status=2):\n",
            "ABNORMAL_TERMINATION_IN_LNSRCH.\n",
            "\n",
            "Increase the number of iterations (max_iter) or scale the data as shown in:\n",
            "    https://scikit-learn.org/stable/modules/preprocessing.html\n",
            "  _check_optimize_result(\"lbfgs\", opt_res)\n",
            "/usr/local/lib/python3.11/dist-packages/sklearn/gaussian_process/_gpr.py:660: ConvergenceWarning: lbfgs failed to converge (status=2):\n",
            "ABNORMAL_TERMINATION_IN_LNSRCH.\n",
            "\n",
            "Increase the number of iterations (max_iter) or scale the data as shown in:\n",
            "    https://scikit-learn.org/stable/modules/preprocessing.html\n",
            "  _check_optimize_result(\"lbfgs\", opt_res)\n"
          ]
        }
      ]
    },
    {
      "cell_type": "markdown",
      "source": [],
      "metadata": {
        "id": "lF5ao-Ip0YfE"
      }
    },
    {
      "cell_type": "markdown",
      "source": [
        "## 3.4 GP-Hedge Results"
      ],
      "metadata": {
        "id": "mdRHWdqP0d_V"
      }
    },
    {
      "cell_type": "code",
      "source": [
        "results[\"GP-Hedge\"] = sharpe_history"
      ],
      "metadata": {
        "id": "oas1GMgxsda7"
      },
      "execution_count": null,
      "outputs": []
    },
    {
      "cell_type": "markdown",
      "source": [
        "## 3.5 Plot-Convergence"
      ],
      "metadata": {
        "id": "Af-aEFqr0jVN"
      }
    },
    {
      "cell_type": "code",
      "source": [
        "plt.figure(figsize=(10, 6))\n",
        "for model in results:\n",
        "    plt.plot(results[model], label=model, lw=2)\n",
        "\n",
        "plt.xlabel(\"Iterations\", fontsize=12)\n",
        "plt.ylabel(\"Best Sharpe Ratio\", fontsize=12)\n",
        "plt.title(\"Convergence Comparison: GP-Hedge vs Baselines\", fontsize=14)\n",
        "plt.legend()\n",
        "plt.grid(True)\n",
        "plt.show()"
      ],
      "metadata": {
        "colab": {
          "base_uri": "https://localhost:8080/",
          "height": 569
        },
        "id": "g6ih-HfRs-WG",
        "outputId": "f0b75161-a5b6-40d4-c693-bede5537a6a5"
      },
      "execution_count": null,
      "outputs": [
        {
          "output_type": "display_data",
          "data": {
            "text/plain": [
              "<Figure size 1000x600 with 1 Axes>"
            ],
            "image/png": "[encoded data removed]"
          },
          "metadata": {}
        }
      ]
    },
    {
      "cell_type": "markdown",
      "source": [
        "# 4. Store Sharpe_History and Weights"
      ],
      "metadata": {
        "id": "w7feDWK-bYCu"
      }
    },
    {
      "cell_type": "code",
      "source": [
        "from google.colab import drive\n",
        "drive.mount('/content/drive')\n",
        "\n",
        "import pickle\n",
        "\n",
        "sharpe_results_gp_hedge = sharpe_history\n",
        "\n",
        "# Save it to a file in your Drive\n",
        "save_path = '/content/drive/MyDrive/gp_hedge.pkl'\n",
        "with open(save_path, 'wb') as f:\n",
        "    pickle.dump(sharpe_results_gp_hedge, f)\n",
        "\n",
        "save_path = '/content/drive/MyDrive/weights.pkl'\n",
        "best_weights = [best_w1, best_w2, best_w3]\n",
        "with open(save_path, 'wb') as f:\n",
        "    pickle.dump(best_weights, f)"
      ],
      "metadata": {
        "colab": {
          "base_uri": "https://localhost:8080/"
        },
        "id": "dAbPojuDa2qe",
        "outputId": "fd95a5a3-ac32-4fab-a905-e7821946c4fd"
      },
      "execution_count": null,
      "outputs": [
        {
          "output_type": "stream",
          "name": "stdout",
          "text": [
            "Drive already mounted at /content/drive; to attempt to forcibly remount, call drive.mount(\"/content/drive\", force_remount=True).\n"
          ]
        }
      ]
    }
  ]
}